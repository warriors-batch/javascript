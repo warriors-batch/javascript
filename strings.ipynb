{
 "cells": [
  {
   "cell_type": "markdown",
   "metadata": {},
   "source": [
    "string:\n",
    "\"hello\"\n",
    "'hi'\n",
    "`Hey`"
   ]
  },
  {
   "cell_type": "markdown",
   "metadata": {},
   "source": [
    "big strings: \n",
    "s = \"Lorem ipsum dolor sit amet, consectetur adipiscing elit, sed do eiusmod tempor incididunt ut labore et dolore magna aliqua. Ut enim ad minim veniam, quis nostrud exercitation ullamco laboris nisi ut aliquip ex ea commodo consequat. Duis aute irure dolor in reprehenderit in voluptate velit esse cillum dolore eu fugiat nulla pariatur. Excepteur sint occaecat cupidatat non proident, sunt in culpa qui officia deserunt mollit anim id est laborum.\n",
    "\""
   ]
  },
  {
   "cell_type": "code",
   "execution_count": null,
   "metadata": {
    "dotnet_interactive": {
     "language": "javascript"
    }
   },
   "outputs": [
    {
     "data": {
      "text/plain": [
       "Lorem ipsum dolor sit amet, consectetur adipiscing elit,sed do eiusmod tempor incididunt ut labore et dolore magna aliqua.Ut enim ad minim veniam, quis nostrud exercitation ullamco laborisnisi ut aliquip ex ea commodo consequat. Duis aute irure dolor in reprehenderit in voluptate velit esse cillum dolore eu fugiat nulla pariatur. Excepteur sint occaecat cupidatat non proident, sunt in culpa qui officia deserunt mollit anim id est laborum."
      ]
     },
     "metadata": {},
     "output_type": "display_data"
    }
   ],
   "source": [
    "s = \"Lorem ipsum dolor sit amet, consectetur adipiscing elit,\"+ \n",
    "\"sed do eiusmod tempor incididunt ut labore et dolore magna aliqua.\"+\n",
    "\"Ut enim ad minim veniam, quis nostrud exercitation ullamco laboris\"+\n",
    "\"nisi ut aliquip ex ea commodo consequat. Duis aute irure dolor \"+\n",
    "\"in reprehenderit in voluptate velit esse cillum dolore eu fugiat nulla pariatur. \"+\n",
    "\"Excepteur sint occaecat cupidatat non proident, \"+\n",
    "\"sunt in culpa qui officia deserunt mollit anim id est laborum.\"\n",
    "\n",
    "console.log(s)"
   ]
  },
  {
   "cell_type": "code",
   "execution_count": null,
   "metadata": {
    "dotnet_interactive": {
     "language": "javascript"
    }
   },
   "outputs": [
    {
     "data": {
      "text/plain": [
       "Lorem ipsum dolor sit amet, consectetur adipiscing elit sed do eiusmod tempor incididunt ut labore et dolore magna aliqua.Ut enim ad minim veniam, quis nostrud exercitation ullamco labor isnisi ut aliquip ex ea commodo consequat. Duis aute irure dolor in reprehenderit in voluptate velit esse cillum dolore eu fugiat nulla pariatur.Excepteur sint occaecat cupidatat non proident,sunt in culpa qui officia deserunt mollit anim id est laborum"
      ]
     },
     "metadata": {},
     "output_type": "display_data"
    }
   ],
   "source": [
    "s1 = \"Lorem ipsum dolor sit amet, consectetur adipiscing elit \\\n",
    "sed do eiusmod tempor incididunt ut labore et dolore magna aliqua.\\\n",
    "Ut enim ad minim veniam, quis nostrud exercitation ullamco labor is\\\n",
    "nisi ut aliquip ex ea commodo consequat. Duis aute irure dolor \\\n",
    "in reprehenderit in voluptate velit esse cillum dolore eu fugiat nulla pariatur.\\\n",
    "Excepteur sint occaecat cupidatat non proident,\\\n",
    "sunt in culpa qui officia deserunt mollit anim id est laborum\"\n",
    "\n",
    "console.log(s1)"
   ]
  },
  {
   "cell_type": "code",
   "execution_count": null,
   "metadata": {
    "dotnet_interactive": {
     "language": "javascript"
    }
   },
   "outputs": [
    {
     "data": {
      "text/plain": [
       "Lorem ipsum dolor sit amet, \n",
       "consectetur adipiscing elit, \n",
       "sed do eiusmod tempor \n",
       "   *)   incididunt ut labore et dolore magna aliqua.\n",
       "              Ut enim ad minim veniam, quis nostrud exercitation ullamco \n",
       "              laboris nisi ut aliquip ex ea commodo consequat. \n",
       "              Duis aute irure dolor in reprehenderit in voluptate \n",
       "              velit esse cillum dolore eu fugiat nulla pariatur. \n",
       "              Excepteur sint occaecat cupidatat non \n",
       "proident, \n",
       "sunt in culpa qui officia deserunt mollit anim id est laborum."
      ]
     },
     "metadata": {},
     "output_type": "display_data"
    }
   ],
   "source": [
    "s2 = `Lorem ipsum dolor sit amet, \n",
    "consectetur adipiscing elit, \n",
    "sed do eiusmod tempor \n",
    "   *)   incididunt ut labore et dolore magna aliqua.\n",
    "              Ut enim ad minim veniam, quis nostrud exercitation ullamco \n",
    "              laboris nisi ut aliquip ex ea commodo consequat. \n",
    "              Duis aute irure dolor in reprehenderit in voluptate \n",
    "              velit esse cillum dolore eu fugiat nulla pariatur. \n",
    "              Excepteur sint occaecat cupidatat non \n",
    "proident, \n",
    "sunt in culpa qui officia deserunt mollit anim id est laborum.`\n",
    "console.log(s2)"
   ]
  },
  {
   "cell_type": "markdown",
   "metadata": {},
   "source": [
    "Access strings:"
   ]
  },
  {
   "cell_type": "code",
   "execution_count": null,
   "metadata": {
    "dotnet_interactive": {
     "language": "javascript"
    }
   },
   "outputs": [],
   "source": [
    "str = \"Abhishek\""
   ]
  },
  {
   "cell_type": "code",
   "execution_count": null,
   "metadata": {
    "dotnet_interactive": {
     "language": "javascript"
    }
   },
   "outputs": [
    {
     "data": {
      "text/plain": [
       "null"
      ]
     },
     "metadata": {},
     "output_type": "display_data"
    }
   ],
   "source": [
    "console.log(str[10])"
   ]
  },
  {
   "cell_type": "code",
   "execution_count": null,
   "metadata": {
    "dotnet_interactive": {
     "language": "javascript"
    }
   },
   "outputs": [
    {
     "data": {
      "text/plain": []
     },
     "metadata": {},
     "output_type": "display_data"
    }
   ],
   "source": [
    "console.log(str.charAt(10))"
   ]
  },
  {
   "cell_type": "markdown",
   "metadata": {},
   "source": [
    "Length of string:"
   ]
  },
  {
   "cell_type": "code",
   "execution_count": null,
   "metadata": {
    "dotnet_interactive": {
     "language": "javascript"
    }
   },
   "outputs": [
    {
     "data": {
      "text/plain": [
       "m"
      ]
     },
     "metadata": {},
     "output_type": "display_data"
    }
   ],
   "source": [
    " l = s.length \n",
    "console.log(s[l-2])"
   ]
  },
  {
   "cell_type": "code",
   "execution_count": null,
   "metadata": {
    "dotnet_interactive": {
     "language": "javascript"
    }
   },
   "outputs": [
    {
     "data": {
      "text/plain": [
       "A"
      ]
     },
     "metadata": {},
     "output_type": "display_data"
    },
    {
     "data": {
      "text/plain": [
       "b"
      ]
     },
     "metadata": {},
     "output_type": "display_data"
    },
    {
     "data": {
      "text/plain": [
       "h"
      ]
     },
     "metadata": {},
     "output_type": "display_data"
    },
    {
     "data": {
      "text/plain": [
       "i"
      ]
     },
     "metadata": {},
     "output_type": "display_data"
    },
    {
     "data": {
      "text/plain": [
       "s"
      ]
     },
     "metadata": {},
     "output_type": "display_data"
    },
    {
     "data": {
      "text/plain": [
       "h"
      ]
     },
     "metadata": {},
     "output_type": "display_data"
    },
    {
     "data": {
      "text/plain": [
       "e"
      ]
     },
     "metadata": {},
     "output_type": "display_data"
    },
    {
     "data": {
      "text/plain": [
       "k"
      ]
     },
     "metadata": {},
     "output_type": "display_data"
    }
   ],
   "source": [
    "// normal loops: \n",
    "for(let i = 0 ; i<=str.length-1; i++){\n",
    "    console.log(str[i])\n",
    "}"
   ]
  }
 ],
 "metadata": {
  "kernelspec": {
   "display_name": ".NET (C#)",
   "language": "C#",
   "name": ".net-csharp"
  },
  "language_info": {
   "name": "C#"
  }
 },
 "nbformat": 4,
 "nbformat_minor": 2
}
